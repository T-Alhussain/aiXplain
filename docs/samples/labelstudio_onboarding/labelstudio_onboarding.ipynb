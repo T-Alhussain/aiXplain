{
 "cells": [
  {
   "cell_type": "markdown",
   "id": "16176d5f",
   "metadata": {},
   "source": [
    "# Label Studio Corpus Onboarding\n",
    "\n",
    "This notebook demonstrates how to auto-onboard tasks or projects from Label Studio into aiXplain platform as a corpus."
   ]
  },
  {
   "cell_type": "markdown",
   "id": "b502391b",
   "metadata": {},
   "source": [
    "## Label Studio Data\n",
    "\n",
    "Label Studio platform contains different projects that vary based on the Label Studio authentication API key used. Each project contains multiple tasks that could be in different data types. This method should be able to handle all audio and text data for either a Label Studio task or project. All you need is Label Studio project or task ID, and the corresponding Label Studio authentication API key.\n",
    "\n",
    "### Label Studio authentication API key\n",
    "\n",
    "In order to get your Label Studio API key, once you're logged in to Label Studio, head to this [link](https://label.aixplain.com/user/account), and you'll find your API key under the Access Token field.\n",
    "\n",
    "### Task or project ID\n",
    "\n",
    "In order to get the task or project ID of the data you want to onboard, navigate to the desired project from [Label Studio Homepage](https://label.aixplain.com/), and the project ID should be in the format:\n",
    "\n",
    "`https://label.aixplain.com/projects/PROJECT_ID/...`\n",
    "\n",
    "If you opened any task in the project, the task ID should be in the format:\n",
    "\n",
    "`https://label.aixplain.com/projects/PROJECT_ID/...&task=TASK_ID`"
   ]
  },
  {
   "cell_type": "markdown",
   "id": "cb8b7112",
   "metadata": {},
   "source": [
    "## aiXplain TEAM_API_KEY\n",
    "\n",
    "Ideally, to onboard a corpus using the SDK, the data needs to be depicted in a CSV file, which will then be fed to the SDK. Additionally, you need to have an aiXplain `TEAM_API_KEY`. For details refer this [Team API Key Guide](https://github.com/aixplain/aiXplain/blob/main/docs/user/api_setup.md).\n",
    "\n",
    "Once you get the API key, you'll need to add this API key as an environment variable on your system.\n",
    "\n",
    "#### Linux or macOS\n",
    "```bash\n",
    "export TEAM_API_KEY=YOUR_API_KEY\n",
    "```\n",
    "#### Windows\n",
    "```bash\n",
    "set TEAM_API_KEY=YOUR_API_KEY\n",
    "```\n",
    "#### Jupyter Notebook\n",
    "```\n",
    "%env TEAM_API_KEY=YOUR_API_KEY\n",
    "```\n",
    "\n",
    "Since we're using jupyter notebook in this case, please copy and paste your aiXplain `TEAM_API_KEY` in the cell below."
   ]
  },
  {
   "cell_type": "code",
   "execution_count": null,
   "id": "88a8d200",
   "metadata": {},
   "outputs": [],
   "source": [
    "%env TEAM_API_KEY=YOUR_API_KEY"
   ]
  },
  {
   "cell_type": "markdown",
   "id": "da6a8a4e",
   "metadata": {},
   "source": [
    "## Import\n",
    "\n",
    "Let's now import the necessary module to onboard the corpus."
   ]
  },
  {
   "cell_type": "code",
   "execution_count": 2,
   "id": "9e478a62",
   "metadata": {},
   "outputs": [],
   "source": [
    "import aixplain.processes.data_onboarding.labelstudio_onboard as labelstudio_onboard \n",
    "from aixplain.factories import CorpusFactory"
   ]
  },
  {
   "cell_type": "markdown",
   "id": "bb4bded9",
   "metadata": {},
   "source": [
    "## Label Studio and Corpus Info\n",
    "\n",
    "Now, we need to specify the parameters of the `labelstudio_onboard.auto_onboard()` function. Here's the list of parameters for the function:\n",
    "\n",
    "- `labelstudio_key` (str): The authentication API key from LabelStudio.\n",
    "- `data_name` (str): The data name of the corpus to be onboarded on the platform.\n",
    "- `task_id` (Optional[int]): LabelStudio task ID to be retrieved. Default is `None`.\n",
    "- `project_id` (Optional[int]): LabelStudio project ID to be retrieved. User must specify either taskID or projectID, not both, nor None. Default is `None`.\n",
    "- `columns_to_drop` (Optional[List[str]]): List of column names to drop from the dataset before onboarding. - Default is `None`.\n",
    "- `onboard` (Optional[bool]): Whether user wants to perform the onboarding process. Default is `False`.\n",
    "- `data_description` (Optional[str]): Data description of the corpus to be onboarded. Default is `None`."
   ]
  },
  {
   "cell_type": "code",
   "execution_count": 3,
   "id": "0d6f9228",
   "metadata": {},
   "outputs": [],
   "source": [
    "# Label Studio API Key\n",
    "labelstudio_key = \"YOUR_LABELSTUDIO_KEY\"\n",
    "\n",
    "# Corpus Name to be Onboarded\n",
    "data_name = 'test-4'\n",
    "\n",
    "# Label Studio Project ID\n",
    "project_id = 1218\n",
    "\n",
    "# Proceed to Onboard\n",
    "onboard = True\n",
    "\n",
    "# Corpus Description\n",
    "data_description = \"This is a sample corpus for testing.\""
   ]
  },
  {
   "cell_type": "markdown",
   "id": "601d00b2",
   "metadata": {},
   "source": [
    "## Corpus Onboarding\n",
    "\n",
    "The last step is to onboard the Label Studio data to aiXplain platform. This is done by calling the `labelstudio_onboard.auto_onboard()` function using the predifined parameters."
   ]
  },
  {
   "cell_type": "code",
   "execution_count": 4,
   "id": "bf9646e5",
   "metadata": {
    "scrolled": true
   },
   "outputs": [
    {
     "name": "stdout",
     "output_type": "stream",
     "text": [
      "Extracting data...\n",
      "Continuing without dropping any columns.\n",
      "<class 'pandas.core.frame.DataFrame'>\n",
      "RangeIndex: 2363 entries, 0 to 2362\n",
      "Data columns (total 5 columns):\n",
      " #   Column                 Non-Null Count  Dtype  \n",
      "---  ------                 --------------  -----  \n",
      " 0   segment_transcription  2363 non-null   object \n",
      " 1   Status                 2363 non-null   object \n",
      " 2   start                  2363 non-null   float64\n",
      " 3   end                    2363 non-null   float64\n",
      " 4   audio                  2363 non-null   object \n",
      "dtypes: float64(2), object(3)\n",
      "memory usage: 92.4+ KB\n",
      "Data extracted successfully, and saved to a CSV file.\n",
      "Here's the data info of your corpus:\n",
      " None\n",
      "Proceeding to onboard the corpus to aiXplain platform...\n",
      "Creating MetaData for column: segment_transcription.\n",
      "Creating MetaData for column: Status.\n",
      "Creating MetaData for column: audio.\n"
     ]
    },
    {
     "name": "stderr",
     "output_type": "stream",
     "text": [
      " Corpus onboarding progress:   0%|                                                               | 0/3 [00:00<?, ?it/s]\n",
      " Data \"segment_transcription\" onboarding progress:   0%|                                         | 0/1 [00:00<?, ?it/s]\u001b[A\n",
      "\n",
      " File onboarding progress:   0%|                                                              | 0/2363 [00:00<?, ?it/s]\u001b[A\u001b[A\n",
      "\n",
      " File onboarding progress:  42%|█████████████████████▏                            | 1000/2363 [00:02<00:03, 358.77it/s]\u001b[A\u001b[A\n",
      "\n",
      " File onboarding progress:  85%|██████████████████████████████████████████▎       | 2000/2363 [00:06<00:01, 327.86it/s]\u001b[A\u001b[A\n",
      "\n",
      "                                                                                                                       \u001b[A\u001b[A\n",
      " Data \"segment_transcription\" onboarding progress: 100%|█████████████████████████████████| 1/1 [00:06<00:00,  6.09s/it]\u001b[A\n",
      " Corpus onboarding progress:  33%|██████████████████▎                                    | 1/3 [00:07<00:15,  7.89s/it]\u001b[A\n",
      " Data \"Status\" onboarding progress:   0%|                                                        | 0/1 [00:00<?, ?it/s]\u001b[A\n",
      "\n",
      " File onboarding progress:   0%|                                                              | 0/2363 [00:00<?, ?it/s]\u001b[A\u001b[A\n",
      "\n",
      " File onboarding progress:  42%|█████████████████████▏                            | 1000/2363 [00:01<00:02, 589.52it/s]\u001b[A\u001b[A\n",
      "\n",
      " File onboarding progress:  85%|██████████████████████████████████████████▎       | 2000/2363 [00:03<00:00, 616.79it/s]\u001b[A\u001b[A\n",
      "\n",
      "                                                                                                                       \u001b[A\u001b[A\n",
      " Data \"Status\" onboarding progress: 100%|████████████████████████████████████████████████| 1/1 [00:03<00:00,  3.33s/it]\u001b[A\n",
      " Corpus onboarding progress:  67%|████████████████████████████████████▋                  | 2/3 [00:12<00:06,  6.12s/it]\u001b[A\n",
      " Data \"audio\" onboarding progress:   0%|                                                         | 0/1 [00:00<?, ?it/s]\u001b[A\n",
      "\n",
      " File onboarding progress:   0%|                                                              | 0/2363 [00:00<?, ?it/s]\u001b[A\u001b[A\n",
      "\n",
      " File onboarding progress:   4%|██▏                                                 | 100/2363 [00:01<00:35, 64.40it/s]\u001b[A\u001b[A\n",
      "\n",
      " File onboarding progress:   8%|████▍                                               | 200/2363 [00:03<00:32, 66.46it/s]\u001b[A\u001b[A\n",
      "\n",
      " File onboarding progress:  13%|██████▌                                             | 300/2363 [00:04<00:30, 68.16it/s]\u001b[A\u001b[A\n",
      "\n",
      " File onboarding progress:  17%|████████▊                                           | 400/2363 [00:05<00:29, 67.09it/s]\u001b[A\u001b[A\n",
      "\n",
      " File onboarding progress:  21%|███████████                                         | 500/2363 [00:07<00:27, 67.47it/s]\u001b[A\u001b[A\n",
      "\n",
      " File onboarding progress:  25%|█████████████▏                                      | 600/2363 [00:08<00:26, 66.94it/s]\u001b[A\u001b[A\n",
      "\n",
      " File onboarding progress:  30%|███████████████▍                                    | 700/2363 [00:10<00:24, 66.60it/s]\u001b[A\u001b[A\n",
      "\n",
      " File onboarding progress:  34%|█████████████████▌                                  | 800/2363 [00:11<00:23, 66.77it/s]\u001b[A\u001b[A\n",
      "\n",
      " File onboarding progress:  38%|███████████████████▊                                | 900/2363 [00:13<00:22, 66.28it/s]\u001b[A\u001b[A\n",
      "\n",
      " File onboarding progress:  42%|█████████████████████▌                             | 1000/2363 [00:14<00:20, 67.09it/s]\u001b[A\u001b[A\n",
      "\n",
      " File onboarding progress:  47%|███████████████████████▋                           | 1100/2363 [00:16<00:18, 66.71it/s]\u001b[A\u001b[A\n",
      "\n",
      " File onboarding progress:  51%|█████████████████████████▉                         | 1200/2363 [00:17<00:17, 67.20it/s]\u001b[A\u001b[A\n",
      "\n",
      " File onboarding progress:  55%|████████████████████████████                       | 1300/2363 [00:19<00:17, 61.60it/s]\u001b[A\u001b[A\n",
      "\n",
      " File onboarding progress:  59%|██████████████████████████████▏                    | 1400/2363 [00:21<00:15, 62.68it/s]\u001b[A\u001b[A\n",
      "\n",
      " File onboarding progress:  63%|████████████████████████████████▎                  | 1500/2363 [00:22<00:13, 63.36it/s]\u001b[A\u001b[A\n",
      "\n",
      " File onboarding progress:  68%|██████████████████████████████████▌                | 1600/2363 [00:24<00:11, 64.77it/s]\u001b[A\u001b[A\n",
      "\n",
      " File onboarding progress:  72%|████████████████████████████████████▋              | 1700/2363 [00:25<00:10, 65.43it/s]\u001b[A\u001b[A\n",
      "\n",
      " File onboarding progress:  76%|██████████████████████████████████████▊            | 1800/2363 [00:27<00:08, 66.44it/s]\u001b[A\u001b[A\n",
      "\n",
      " File onboarding progress:  80%|█████████████████████████████████████████          | 1900/2363 [00:28<00:06, 67.10it/s]\u001b[A\u001b[A\n",
      "\n",
      " File onboarding progress:  85%|███████████████████████████████████████████▏       | 2000/2363 [00:30<00:05, 67.27it/s]\u001b[A\u001b[A\n",
      "\n",
      " File onboarding progress:  89%|█████████████████████████████████████████████▎     | 2100/2363 [00:31<00:03, 67.17it/s]\u001b[A\u001b[A\n",
      "\n",
      " File onboarding progress:  93%|███████████████████████████████████████████████▍   | 2200/2363 [00:33<00:02, 67.33it/s]\u001b[A\u001b[A\n",
      "\n",
      " File onboarding progress:  97%|█████████████████████████████████████████████████▋ | 2300/2363 [00:34<00:00, 67.75it/s]\u001b[A\u001b[A\n",
      "\n",
      "                                                                                                                       \u001b[A\u001b[A\n",
      " Data \"audio\" onboarding progress: 100%|█████████████████████████████████████████████████| 1/1 [00:34<00:00, 34.73s/it]\u001b[A\n",
      " Corpus onboarding progress: 100%|███████████████████████████████████████████████████████| 3/3 [00:49<00:00, 16.34s/it]\u001b[A\n"
     ]
    }
   ],
   "source": [
    "payload = labelstudio_onboard.auto_onboard(\n",
    "    labelstudio_key = labelstudio_key,\n",
    "    data_name = data_name,\n",
    "    project_id = project_id,\n",
    "    onboard = onboard,\n",
    "    data_description = data_description\n",
    ")\n",
    "\n",
    "print(payload)"
   ]
  },
  {
   "cell_type": "markdown",
   "id": "854f9267",
   "metadata": {},
   "source": [
    "After it finishes onboarding, you can check the corpus using the `CorpusFactory.get()` method."
   ]
  },
  {
   "cell_type": "code",
   "execution_count": 5,
   "id": "fc040caa",
   "metadata": {},
   "outputs": [
    {
     "data": {
      "text/plain": [
       "{'id': '64db8f058d8b03f65b5bcc5c',\n",
       " 'name': 'test-4',\n",
       " 'description': 'This is a sample corpus for testing.',\n",
       " 'supplier': 'aiXplain',\n",
       " 'version': '1.0',\n",
       " 'license': <License.MIT: '620ba3a83e2fa95c500b429d'>,\n",
       " 'privacy': <Privacy.PRIVATE: 'Private'>,\n",
       " 'onboard_status': <OnboardStatus.ONBOARDED: 'onboarded'>,\n",
       " 'functions': [],\n",
       " 'tags': [],\n",
       " 'data': [<aixplain.modules.data.Data at 0x25c20b75190>,\n",
       "  <aixplain.modules.data.Data at 0x25c20b75ca0>,\n",
       "  <aixplain.modules.data.Data at 0x25c20b757c0>],\n",
       " 'length': 2362,\n",
       " 'kwargs': {}}"
      ]
     },
     "execution_count": 5,
     "metadata": {},
     "output_type": "execute_result"
    }
   ],
   "source": [
    "corpus = CorpusFactory.get(payload[\"asset_id\"])\n",
    "corpus.to_dict()"
   ]
  }
 ],
 "metadata": {
  "kernelspec": {
   "display_name": "Python [conda env:root] *",
   "language": "python",
   "name": "conda-root-py"
  },
  "language_info": {
   "codemirror_mode": {
    "name": "ipython",
    "version": 3
   },
   "file_extension": ".py",
   "mimetype": "text/x-python",
   "name": "python",
   "nbconvert_exporter": "python",
   "pygments_lexer": "ipython3",
   "version": "3.9.13"
  }
 },
 "nbformat": 4,
 "nbformat_minor": 5
}
