{
 "cells": [
  {
   "cell_type": "markdown",
   "id": "16176d5f",
   "metadata": {},
   "source": [
    "# Label Studio Corpus Onboarding\n",
    "\n",
    "This notebook demonstrates how to auto-onboard tasks or projects from Label Studio into aiXplain platform as a corpus."
   ]
  },
  {
   "cell_type": "markdown",
   "id": "b502391b",
   "metadata": {},
   "source": [
    "## Label Studio Data\n",
    "\n",
    "Label Studio platform contains different projects that vary based on the Label Studio authentication API key used. Each project contains multiple tasks that could be in different data types. This method should be able to handle all audio and text data for either a Label Studio task or project. All you need is Label Studio project or task ID, and the corresponding Label Studio authentication API key.\n",
    "\n",
    "### Label Studio authentication API key\n",
    "\n",
    "In order to get your Label Studio API key, once you're logged in to Label Studio, head to this [link](https://label.aixplain.com/user/account), and you'll find your API key under the Access Token field.\n",
    "\n",
    "### Task or project ID\n",
    "\n",
    "In order to get the task or project ID of the data you want to onboard, navigate to the desired project from [Label Studio Homepage](https://label.aixplain.com/), and the project ID should be in the format:\n",
    "\n",
    "`https://label.aixplain.com/projects/PROJECT_ID/...`\n",
    "\n",
    "If you opened any task in the project, the task ID should be in the format:\n",
    "\n",
    "`https://label.aixplain.com/projects/PROJECT_ID/...&task=TASK_ID`"
   ]
  },
  {
   "cell_type": "markdown",
   "id": "cb8b7112",
   "metadata": {},
   "source": [
    "## aiXplain TEAM_API_KEY\n",
    "\n",
    "Ideally, to onboard a corpus using the SDK, the data needs to be depicted in a CSV file, which will then be fed to the SDK. Additionally, you need to have an aiXplain `TEAM_API_KEY`. For details refer this [Team API Key Guide](https://github.com/aixplain/aiXplain/blob/main/docs/user/api_setup.md).\n",
    "\n",
    "Once you get the API key, you'll need to add this API key as an environment variable on your system.\n",
    "\n",
    "#### Linux or macOS\n",
    "```bash\n",
    "export TEAM_API_KEY=YOUR_API_KEY\n",
    "```\n",
    "#### Windows\n",
    "```bash\n",
    "set TEAM_API_KEY=YOUR_API_KEY\n",
    "```\n",
    "#### Jupyter Notebook\n",
    "```\n",
    "%env TEAM_API_KEY=YOUR_API_KEY\n",
    "```\n",
    "\n",
    "Similarly, we have to specify the Label Studio `LABELSTUDIO_KEY` in the same way. Since we're using jupyter notebook in this case, please copy and paste your aiXplain `TEAM_API_KEY`, and Label Studio `LABELSTUDIO_KEY` in the cell below."
   ]
  },
  {
   "cell_type": "code",
   "execution_count": null,
   "id": "88a8d200",
   "metadata": {},
   "outputs": [],
   "source": [
    "%env TEAM_API_KEY=YOUR_API_KEY\n",
    "%env LABELSTUDIO_KEY=YOUR_LABELSTUDIO_KEY"
   ]
  },
  {
   "cell_type": "markdown",
   "id": "da6a8a4e",
   "metadata": {},
   "source": [
    "## Import\n",
    "\n",
    "Let's now import the necessary module to onboard the corpus."
   ]
  },
  {
   "cell_type": "code",
   "execution_count": 12,
   "id": "9e478a62",
   "metadata": {},
   "outputs": [],
   "source": [
    "from aixplain.factories import LabelStudioFactory, CorpusFactory\n",
    "from aixplain.enums import Language\n",
    "import json"
   ]
  },
  {
   "cell_type": "markdown",
   "id": "3211b1db",
   "metadata": {},
   "source": [
    "## LabelStudioFactory Methods \n",
    "\n",
    "### LabelStudioFactory.get_task_data(task_id)\n",
    "\n",
    "This `LabelStudioFactory` method retrieves a task's data from Label Studio as bytes. These bytes are further processed by other class methods to extract data from. An example of using `LabelStudioFactory.get_task_data()` is as follows:"
   ]
  },
  {
   "cell_type": "code",
   "execution_count": null,
   "id": "62cd441d",
   "metadata": {},
   "outputs": [],
   "source": [
    "task_data = LabelStudioFactory.get_task_data(339594)\n",
    "print(task_data)"
   ]
  },
  {
   "cell_type": "markdown",
   "id": "b38bfd02",
   "metadata": {},
   "source": [
    "### LabelStudioFactory.extract_data(dict)\n",
    "\n",
    "As we can see, the bytes retrieved from `LabelStudioFactory.get_task_data()` are note interpretable, and need further processing. The `LabelStudioFactory.extract_data()` does exactly that. It processes the retrieved bytes to extract meaningful data from, but first we have to deserialize the `task_data` using `json.loads()`. An example is as follows:"
   ]
  },
  {
   "cell_type": "code",
   "execution_count": null,
   "id": "c367f15e",
   "metadata": {
    "scrolled": true
   },
   "outputs": [],
   "source": [
    "extracted_data = LabelStudioFactory.extract_data(json.loads(task_data))\n",
    "print(extracted_data)"
   ]
  },
  {
   "cell_type": "markdown",
   "id": "5af45288",
   "metadata": {},
   "source": [
    "### LabelStudioFactory.get_all_tasks_per_project(project_id)\n",
    "\n",
    "As shown above, the `LabelStudioFactory.extract_data()` method was able to successfully extract data from a task. Now, we want to extract data from a project that contains multiple tasks. There are two methods specifically developed for that, one of which is the `LabelStudioFactory.get_all_tasks_per_project()` method that firstly retrieves all the task IDs present in a project, and returns them in a list. An example is as follows:"
   ]
  },
  {
   "cell_type": "code",
   "execution_count": null,
   "id": "d66263ec",
   "metadata": {},
   "outputs": [],
   "source": [
    "print(LabelStudioFactory.get_all_tasks_per_project(1218))"
   ]
  },
  {
   "cell_type": "markdown",
   "id": "8f13da4c",
   "metadata": {},
   "source": [
    "### LabelStudioFactory.extract_project_data(project_id)\n",
    "\n",
    "After retrieving all the task IDs from a project, now we need to extract data from all these tasks, and store them in a list. The `LabelStudioFactory.extract_project_data()` utlizes the above 3 methods to retrieve data from all tasks within a project. An example is as follows:  "
   ]
  },
  {
   "cell_type": "code",
   "execution_count": null,
   "id": "4ebaf3b3",
   "metadata": {},
   "outputs": [],
   "source": [
    "project_data = LabelStudioFactory.extract_project_data(1218)\n",
    "print(project_data)"
   ]
  },
  {
   "cell_type": "markdown",
   "id": "3df607ee",
   "metadata": {},
   "source": [
    "### LabelStudioFactory.save_to_csv()\n",
    "\n",
    "In order to be able to onboard a corpus to aiXplain, there has to be a .csv file that contains the data. The `LabelStudioFactory.save_to_csv()` method processes audio and text data from Label Studio into a `pd.DataFrame()`, and stores it in a csv file to be further used for onboarding. It returns also the processed dataframe, and the dtypes of the columns within it. The list of parameters for the function is as follows:\n",
    "\n",
    "- `task_id` (Optional[int]): LabelStudio task ID to be retrieved. Default is None.\n",
    "- `project_id` (Optional[int]): LabelStudio project ID to be retrieved. Default is None.\n",
    "- `columns_to_drop` (Optional[List[str]]): List of column names to drop from the dataset. Default is None."
   ]
  },
  {
   "cell_type": "code",
   "execution_count": null,
   "id": "1d20115a",
   "metadata": {
    "scrolled": true
   },
   "outputs": [],
   "source": [
    "filename, dtypes, df = LabelStudioFactory.save_to_csv(project_id = 1218)\n",
    "print('The file name is: {}\\nThe dtypes is: {}'.format(filename, dtypes))\n",
    "display(df)"
   ]
  },
  {
   "cell_type": "markdown",
   "id": "2e062867",
   "metadata": {},
   "source": [
    "### LabelStudioFactory.create()\n",
    "\n",
    "The last method in the class is the `LabelStudioFactory.create()` which is used to finally onboard the Label Studio task/project data as a corpus into the aiXplain platform. It utilizes all the class methods together to perform the onboarding process. The rest of the notebook demonstrates how to properly use it."
   ]
  },
  {
   "cell_type": "markdown",
   "id": "bb4bded9",
   "metadata": {},
   "source": [
    "## Label Studio and Corpus Info\n",
    "\n",
    "Firstly, we need to specify the parameters of the `LabelStudioFactory.create()` function. Here's the list of parameters for the function:\n",
    "\n",
    "- `corpus_name` (str): The data name of the corpus to be onboarded on the platform.\n",
    "- `task_id` (Optional[int]): LabelStudio task ID to be retrieved. Default is `None`.\n",
    "- `project_id` (Optional[int]): LabelStudio project ID to be retrieved. User must specify either taskID or projectID, not both, nor None. Default is `None`.\n",
    "- `columns_to_drop` (Optional[List[str]]): List of column names to drop from the dataset before onboarding. - Default is `None`.\n",
    "- `language`: (Optional[List[str]]): List of language codes to add to metadata. Default is None.\n",
    "- `corpus_description` (Optional[str]): : Data description of the corpus to be onboarded. Default is `None`.\n",
    "\n",
    "For the language selection, the supported languages are:"
   ]
  },
  {
   "cell_type": "code",
   "execution_count": 13,
   "id": "82010740",
   "metadata": {},
   "outputs": [
    {
     "data": {
      "text/plain": [
       "{'af': 'Afrikaans',\n",
       " 'sq': 'Albanian',\n",
       " 'hy': 'Armenian',\n",
       " 'asm': 'Assamese',\n",
       " 'bn': 'Bangla',\n",
       " 'eu': 'Basque',\n",
       " 'bg': 'Bulgarian',\n",
       " 'ca': 'Catalan',\n",
       " 'ceb': 'Cebuano',\n",
       " 'co': 'Corsican',\n",
       " 'cs': 'Czech',\n",
       " 'dv': 'Divehi',\n",
       " 'eo': 'Esperanto',\n",
       " 'et': 'Estonian',\n",
       " 'fj': 'Fijian',\n",
       " 'fi': 'Finnish',\n",
       " 'de': 'German',\n",
       " 'el': 'Greek',\n",
       " 'ht': 'Haitian',\n",
       " 'ha': 'Hausa',\n",
       " 'haw': 'Hawaiian',\n",
       " 'isl': 'Icelandic',\n",
       " 'ig': 'Igbo',\n",
       " 'id': 'Indonesian',\n",
       " 'iu': 'Inuktitut',\n",
       " 'ga': 'Irish',\n",
       " 'ja': 'Japanese',\n",
       " 'kk': 'Kazakh',\n",
       " 'rw': 'Kinyarwanda',\n",
       " 'tlh': 'Klingon',\n",
       " 'ko': 'Korean',\n",
       " 'ku': 'Kurdish',\n",
       " 'ky': 'Kyrgyz',\n",
       " 'lb': 'Luxembourgish',\n",
       " 'mk': 'Macedonian',\n",
       " 'mt': 'Maltese',\n",
       " 'mi': 'Maori',\n",
       " 'mn': 'Mongolian',\n",
       " 'am': 'Amharic',\n",
       " 'or': 'Odia',\n",
       " 'ro': 'Romanian',\n",
       " 'ar': 'Arabic',\n",
       " 'az': 'Azerbaijani',\n",
       " 'ba': 'Bashkir',\n",
       " 'bs': 'Bosnian',\n",
       " 'be': 'Belarusian',\n",
       " 'my': 'Burmese',\n",
       " 'da': 'Danish',\n",
       " 'ny': 'Nyanja',\n",
       " 'ps': 'Pashto',\n",
       " 'pl': 'Polish',\n",
       " 'pa': 'Punjabi',\n",
       " 'oto': 'Queretaro',\n",
       " 'ru': 'Russian',\n",
       " 'sr': 'Serbian',\n",
       " 'sn': 'Shona',\n",
       " 'sd': 'Sindhi',\n",
       " 'sk': 'Slovak',\n",
       " 'so': 'Somali',\n",
       " 'sw': 'Swahili',\n",
       " 'tl': 'Tagalog',\n",
       " 'ty': 'Tahitian',\n",
       " 'tg': 'Tajik',\n",
       " 'tt': 'Tatar',\n",
       " 'te': 'Telugu',\n",
       " 'bo': 'Tibetan',\n",
       " 'to': 'Tongan',\n",
       " 'tr': 'Turkish',\n",
       " 'uz': 'Uzbek',\n",
       " 'vi': 'Vietnamese',\n",
       " 'cy': 'Welsh',\n",
       " 'xh': 'Xhosa',\n",
       " 'yua': 'Yucatec',\n",
       " 'zu': 'Zulu',\n",
       " 'fa': 'Persian',\n",
       " 'pt': 'Portuguese',\n",
       " 'zh': 'Chinese',\n",
       " 'hr': 'Croatian',\n",
       " 'fil': 'Filipino',\n",
       " 'gu': 'Gujarati',\n",
       " 'hmn': 'Hmong',\n",
       " 'lv': 'Latvian',\n",
       " 'lt': 'Lithuanian',\n",
       " 'ug': 'Uyghur',\n",
       " 'prs': 'Dari',\n",
       " 'nl': 'Dutch',\n",
       " 'en': 'English',\n",
       " 'fr': 'French',\n",
       " 'ka': 'Georgian',\n",
       " 'gl': 'Galician',\n",
       " 'fy': 'Frisian',\n",
       " 'he': 'Hebrew',\n",
       " 'hu': 'Hungarian',\n",
       " 'hi': 'Hindi',\n",
       " 'it': 'Italian',\n",
       " 'kn': 'Kannada',\n",
       " 'jv': 'Javanese',\n",
       " 'km': 'Khmer',\n",
       " 'lo': 'Lao',\n",
       " 'mg': 'Malagasy',\n",
       " 'ms': 'Malay',\n",
       " 'ml': 'Malayalam',\n",
       " 'mr': 'Marathi',\n",
       " 'ne': 'Nepali',\n",
       " 'no': 'Norwegian',\n",
       " 'sm': 'Samoan',\n",
       " 'st': 'Sesotho',\n",
       " 'gd': 'Scots_Gaelic',\n",
       " 'si': 'Sinhala',\n",
       " 'sl': 'Slovenian',\n",
       " 'sv': 'Swedish',\n",
       " 'yo': 'Yoruba',\n",
       " 'es': 'Spanish',\n",
       " 'su': 'Sundanese',\n",
       " 'tk': 'Turkmen',\n",
       " 'ta': 'Tamil',\n",
       " 'th': 'Thai',\n",
       " 'tir': 'Tigrinya',\n",
       " 'ukr': 'Ukrainian',\n",
       " 'yi': 'Yiddish',\n",
       " 'ur': 'Urdu'}"
      ]
     },
     "execution_count": 13,
     "metadata": {},
     "output_type": "execute_result"
    }
   ],
   "source": [
    "langs = {}\n",
    "for l in list(Language):\n",
    "    if l.value['dialect'] == '':\n",
    "        langs[l.value['language']] = l.name\n",
    "        \n",
    "langs"
   ]
  },
  {
   "cell_type": "markdown",
   "id": "88bf5585",
   "metadata": {},
   "source": [
    "Now, we proceed to specify the parameters."
   ]
  },
  {
   "cell_type": "code",
   "execution_count": 17,
   "id": "0d6f9228",
   "metadata": {},
   "outputs": [],
   "source": [
    "# Corpus Name to be Onboarded\n",
    "corpus_name = 'test-6'\n",
    "\n",
    "# Label Studio Project ID\n",
    "project_id = 1218\n",
    "\n",
    "# Language\n",
    "language = ['ar']\n",
    "\n",
    "# Corpus Description\n",
    "corpus_description = \"This is a sample corpus for testing.\""
   ]
  },
  {
   "cell_type": "markdown",
   "id": "601d00b2",
   "metadata": {},
   "source": [
    "## Corpus Onboarding\n",
    "\n",
    "The last step is to onboard the Label Studio data to aiXplain platform. This is done by calling the `LabelStudioFactory.create()` function using the predifined parameters."
   ]
  },
  {
   "cell_type": "code",
   "execution_count": null,
   "id": "bf9646e5",
   "metadata": {
    "scrolled": true
   },
   "outputs": [],
   "source": [
    "payload = LabelStudioFactory.create(\n",
    "    corpus_name = data_name,\n",
    "    project_id = project_id,\n",
    "    language = language,\n",
    "    corpus_description = data_description\n",
    ")\n",
    "\n",
    "print(payload)"
   ]
  },
  {
   "cell_type": "markdown",
   "id": "854f9267",
   "metadata": {},
   "source": [
    "After it finishes onboarding, you can check the corpus using the `CorpusFactory.get()` method."
   ]
  },
  {
   "cell_type": "code",
   "execution_count": null,
   "id": "fc040caa",
   "metadata": {},
   "outputs": [],
   "source": [
    "corpus = CorpusFactory.get(payload[\"asset_id\"])\n",
    "corpus.to_dict()"
   ]
  }
 ],
 "metadata": {
  "kernelspec": {
   "display_name": "Python [conda env:root] *",
   "language": "python",
   "name": "conda-root-py"
  },
  "language_info": {
   "codemirror_mode": {
    "name": "ipython",
    "version": 3
   },
   "file_extension": ".py",
   "mimetype": "text/x-python",
   "name": "python",
   "nbconvert_exporter": "python",
   "pygments_lexer": "ipython3",
   "version": "3.9.13"
  }
 },
 "nbformat": 4,
 "nbformat_minor": 5
}
